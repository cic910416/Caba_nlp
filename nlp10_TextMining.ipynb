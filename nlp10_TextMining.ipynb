{
  "nbformat": 4,
  "nbformat_minor": 0,
  "metadata": {
    "colab": {
      "name": "nlp10_TextMining.ipynb",
      "provenance": [],
      "authorship_tag": "ABX9TyMSEK6C0gDSQcbPgUFn7EtU",
      "include_colab_link": true
    },
    "kernelspec": {
      "name": "python3",
      "display_name": "Python 3"
    }
  },
  "cells": [
    {
      "cell_type": "markdown",
      "metadata": {
        "id": "view-in-github",
        "colab_type": "text"
      },
      "source": [
        "<a href=\"https://colab.research.google.com/github/cic910416/Caba_nlp/blob/main/nlp10_TextMining.ipynb\" target=\"_parent\"><img src=\"https://colab.research.google.com/assets/colab-badge.svg\" alt=\"Open In Colab\"/></a>"
      ]
    },
    {
      "cell_type": "code",
      "metadata": {
        "id": "cq1o1LGh6uBF"
      },
      "source": [
        "NLP"
      ],
      "execution_count": null,
      "outputs": []
    },
    {
      "cell_type": "markdown",
      "metadata": {
        "id": "JiQoS5JA7a5b"
      },
      "source": [
        "NLP, 텍스트 분석\r\n",
        "\r\n",
        "\r\n",
        "*   Natural Language Processing 기계가 인간의 언어를 이해하고 해석하는데 중점. 기계번역, 질의 응답시스템\r\n",
        "\r\n",
        "*   텍스트분석 : 비정형텍스트에서 의미있는 정보를 추출하는 것에 중점\r\n",
        "*   NLP는 텍스트분석을 향상하게 하는 기반기술\r\n",
        "*   NLP와 텍스트 분석의 근간에는 머신러닝이 존재. 과거 언어적인 룰기반 시스템에서 텍스트 데이터 기반으로 모델을 학습하고 예측\r\n",
        "* 텍스트 분석은 머신러닝 , 언어 이해, 통계 등을 활용한 모델 수립, 정보추출을 통해 인사이트 및 예측분석 등의 분석작업 수행\r\n",
        "      *텍스트분류 : 신문기사 카테고리 분류, 스팸 메일 검출 프로그램. 지도학습\r\n",
        "      *감성분석 : 감정/ 판단 / 믿음 / 의견 / 기분 등의 주관적 요소분석. 소셜미디어 감정분석, 영화 리뷰, 여론조사 의견분석. 지도학습, 비지도학습\r\n",
        "      *텍스트요약 : 텍스트내에서 중요한 주제나 중심 사상을 추출. 토픽 모델링\r\n",
        "      *텍스트 군집화와 유사도 측정 : 비슷한 유형의 문서에 대해서 군집화 수행. 비지도 \r\n",
        "      학습\r\n",
        "TEXT 분석수행 프로세스 \r\n",
        "  * 텍스트 정규화\r\n",
        "    *클랜징, 토큰화, 필터링/스톱워드 제거/철자 수정, Stemming, Lemmatization\r\n",
        "  * 피처 벡터화 변환\r\n",
        "    *Bag of Words : Count 기반, TF-IDF 기반\r\n",
        "    *Word2Vec\r\n",
        "  *ML모델 수립 및 학습/예측/평가\r\n",
        "\r\n",
        "텍스트 전처리 -텍스트 정규화\r\n",
        "  * 클렌징 : 분석에 방해되는 불필요한 문자, 기호를 사전에 제거. HTML, XML 태그나 특정 기호\r\n",
        "  * 토큰화 : 문서에서 문장을 분리하는 문장 토큰\r\n",
        "\r\n",
        "\r\n"
      ]
    },
    {
      "cell_type": "markdown",
      "metadata": {
        "id": "0ZXppXUN7KdD"
      },
      "source": [
        ""
      ]
    },
    {
      "cell_type": "code",
      "metadata": {
        "colab": {
          "base_uri": "https://localhost:8080/"
        },
        "id": "gWr_aw3yDUXZ",
        "outputId": "2bc63bef-dd48-47f8-c898-8dc180427ae3"
      },
      "source": [
        "import nltk\r\n",
        "nltk.download('punkt')"
      ],
      "execution_count": 1,
      "outputs": [
        {
          "output_type": "stream",
          "text": [
            "[nltk_data] Downloading package punkt to /root/nltk_data...\n",
            "[nltk_data]   Unzipping tokenizers/punkt.zip.\n"
          ],
          "name": "stdout"
        },
        {
          "output_type": "execute_result",
          "data": {
            "text/plain": [
              "True"
            ]
          },
          "metadata": {
            "tags": []
          },
          "execution_count": 1
        }
      ]
    },
    {
      "cell_type": "code",
      "metadata": {
        "colab": {
          "base_uri": "https://localhost:8080/"
        },
        "id": "CJbLysnQDUVM",
        "outputId": "373f8d9b-cc04-4062-f043-eefd731d6486"
      },
      "source": [
        "# 문장 토큰화(sent tokenize) : 마침표, 개행문자(\\n), 정규표현식\r\n",
        "\r\n",
        "from nltk import sent_tokenize\r\n",
        "text_sample = 'The Matrix is everywhere its all around us, here even in this room. You can see it out your window or on your television. You feel it when you go to work, or go to church or pay your taxes.'\r\n",
        "\r\n",
        "sentences = sent_tokenize(text=text_sample)\r\n",
        "print(sentences)\r\n",
        "print(type(sentences), len(sentences))"
      ],
      "execution_count": 2,
      "outputs": [
        {
          "output_type": "stream",
          "text": [
            "['The Matrix is everywhere its all around us, here even in this room.', 'You can see it out your window or on your television.', 'You feel it when you go to work, or go to church or pay your taxes.']\n",
            "<class 'list'> 3\n"
          ],
          "name": "stdout"
        }
      ]
    },
    {
      "cell_type": "code",
      "metadata": {
        "colab": {
          "base_uri": "https://localhost:8080/"
        },
        "id": "TWM-ZHA6DUS6",
        "outputId": "8d19e653-3ce5-4ec4-a021-2349e03ad54a"
      },
      "source": [
        "#단어 토큰화(word_tokenize) : 공백, 컴마, 쉼표, 마침표, 개행문자, 정규표현식\r\n",
        "from nltk import word_tokenize\r\n",
        "\r\n",
        "sentence = 'The Matrix is everywhere its all around us, here even in this room.'\r\n",
        "words = word_tokenize(sentence)\r\n",
        "\r\n",
        "\r\n",
        "print(words)\r\n",
        "print(type(words), len(words))"
      ],
      "execution_count": 4,
      "outputs": [
        {
          "output_type": "stream",
          "text": [
            "['The', 'Matrix', 'is', 'everywhere', 'its', 'all', 'around', 'us', ',', 'here', 'even', 'in', 'this', 'room', '.']\n",
            "<class 'list'> 15\n"
          ],
          "name": "stdout"
        }
      ]
    },
    {
      "cell_type": "code",
      "metadata": {
        "colab": {
          "base_uri": "https://localhost:8080/"
        },
        "id": "zBuUt2DCDUQi",
        "outputId": "05c62f2c-6ebf-4395-845f-68827c665470"
      },
      "source": [
        "\r\n",
        "# 여러 개의 문장으로 된 입력 데이터를 문장별로 단어 토큰화하게 만드는 함수\r\n",
        "def tokenize_text(text):\r\n",
        "\r\n",
        "  # 문장별로 분리 토큰\r\n",
        "  sentences = sent_tokenize(text)\r\n",
        "\r\n",
        "  # 분리된 문장별 단어 토큰화\r\n",
        "  word_tokens = [word_tokenize(sentence) for sentence in sentences]\r\n",
        "  return word_tokens\r\n",
        "\r\n",
        "# 여러 문장에 대해 문장별 단어 토큰화 수행\r\n",
        "word_tokens = tokenize_text(text_sample)\r\n",
        "print(type(word_tokens), len(word_tokens))\r\n",
        "print(word_tokens)"
      ],
      "execution_count": 5,
      "outputs": [
        {
          "output_type": "stream",
          "text": [
            "<class 'list'> 3\n",
            "[['The', 'Matrix', 'is', 'everywhere', 'its', 'all', 'around', 'us', ',', 'here', 'even', 'in', 'this', 'room', '.'], ['You', 'can', 'see', 'it', 'out', 'your', 'window', 'or', 'on', 'your', 'television', '.'], ['You', 'feel', 'it', 'when', 'you', 'go', 'to', 'work', ',', 'or', 'go', 'to', 'church', 'or', 'pay', 'your', 'taxes', '.']]\n"
          ],
          "name": "stdout"
        }
      ]
    },
    {
      "cell_type": "code",
      "metadata": {
        "id": "Xwz-i3_TDUOJ"
      },
      "source": [
        ""
      ],
      "execution_count": null,
      "outputs": []
    },
    {
      "cell_type": "code",
      "metadata": {
        "colab": {
          "base_uri": "https://localhost:8080/"
        },
        "id": "m_8A57mQDUL5",
        "outputId": "9cf3cdd1-35fb-4b2f-f152-f8e24da09344"
      },
      "source": [
        "#스톱워드제거 \r\n",
        "#the is a will 등 문맥과 관련해 필요없는 단어들을 제거\r\n",
        "import nltk\r\n",
        "nltk.download(\"stopwords\")"
      ],
      "execution_count": 6,
      "outputs": [
        {
          "output_type": "stream",
          "text": [
            "[nltk_data] Downloading package stopwords to /root/nltk_data...\n",
            "[nltk_data]   Unzipping corpora/stopwords.zip.\n"
          ],
          "name": "stdout"
        },
        {
          "output_type": "execute_result",
          "data": {
            "text/plain": [
              "True"
            ]
          },
          "metadata": {
            "tags": []
          },
          "execution_count": 6
        }
      ]
    },
    {
      "cell_type": "code",
      "metadata": {
        "colab": {
          "base_uri": "https://localhost:8080/"
        },
        "id": "yb7BD3_LDUJj",
        "outputId": "6793c0cc-b21b-4b30-cad8-5578aeb3819c"
      },
      "source": [
        "print(\"영어 stop words 개수:\", len(nltk.corpus.stopwords.words(\"english\")))\r\n",
        "print(nltk.corpus.stopwords.words(\"english\")[:20])"
      ],
      "execution_count": 7,
      "outputs": [
        {
          "output_type": "stream",
          "text": [
            "영어 stop words 개수: 179\n",
            "['i', 'me', 'my', 'myself', 'we', 'our', 'ours', 'ourselves', 'you', \"you're\", \"you've\", \"you'll\", \"you'd\", 'your', 'yours', 'yourself', 'yourselves', 'he', 'him', 'his']\n"
          ],
          "name": "stdout"
        }
      ]
    },
    {
      "cell_type": "code",
      "metadata": {
        "colab": {
          "base_uri": "https://localhost:8080/"
        },
        "id": "DuN1YFmMDUHJ",
        "outputId": "a8b8ec34-4823-4fc8-d182-ec702fb1c88b"
      },
      "source": [
        "import nltk\r\n",
        "stopwords = nltk.corpus.stopwords.words(\"english\")\r\n",
        "all_tokens = []\r\n",
        "\r\n",
        "# 위 예제에서 3개의 문장별로 얻은 word_tokens list에 대해 불용어 제거하는 반복문 작성\r\n",
        "for sentence in word_tokens:\r\n",
        "  filtered_words = [] # 빈 리스트 생성\r\n",
        "\r\n",
        "  # 개별 문장별로 토큰화된 문장 list에 대해 스톱 워드 제거\r\n",
        "  for word in sentence:\r\n",
        "\r\n",
        "    # 소문자로 모두 변환\r\n",
        "    word = word.lower()\r\n",
        "\r\n",
        "    # 토큰화된 개별 단어가 스톱 워드의 단어에 포함되지 않으면 word_tokens에 추가\r\n",
        "    if word not in stopwords:\r\n",
        "      filtered_words.append(word)\r\n",
        "  all_tokens.append(filtered_words)\r\n",
        "  \r\n",
        "print(all_tokens)"
      ],
      "execution_count": 8,
      "outputs": [
        {
          "output_type": "stream",
          "text": [
            "[['matrix', 'everywhere', 'around', 'us', ',', 'even', 'room', '.'], ['see', 'window', 'television', '.'], ['feel', 'go', 'work', ',', 'go', 'church', 'pay', 'taxes', '.']]\n"
          ],
          "name": "stdout"
        }
      ]
    },
    {
      "cell_type": "code",
      "metadata": {
        "colab": {
          "base_uri": "https://localhost:8080/"
        },
        "id": "64P31mvFDUFB",
        "outputId": "2646d10f-2c88-495f-dde8-ae5e3152b297"
      },
      "source": [
        "# 문법적으로 또는 의미적으로 변화하는 단어의 원형을 찾는 방법\r\n",
        "# Stemmer ( LancasterStemmer)\r\n",
        "from nltk.stem import PorterStemmer\r\n",
        "from nltk.stem import LancasterStemmer\r\n",
        "porter = PorterStemmer()\r\n",
        "lancaster = LancasterStemmer()\r\n",
        "\r\n",
        "word_list = [\"friend\", \"friendship\", \"friends\", \"friendships\",\"stabil\",\"destabilize\",\"misunderstanding\",\"railroad\",\"moonlight\",\"football\"]\r\n",
        "print(\"{0:20}{1:20}{2:20}\".format(\"Word\",\"Porter Stemmer\",\"lancaster Stemmer\"))\r\n",
        "for word in word_list:\r\n",
        "    print(\"{0:20}{1:20}{2:20}\".format(word,porter.stem(word),lancaster.stem(word)))"
      ],
      "execution_count": 9,
      "outputs": [
        {
          "output_type": "stream",
          "text": [
            "Word                Porter Stemmer      lancaster Stemmer   \n",
            "friend              friend              friend              \n",
            "friendship          friendship          friend              \n",
            "friends             friend              friend              \n",
            "friendships         friendship          friend              \n",
            "stabil              stabil              stabl               \n",
            "destabilize         destabil            dest                \n",
            "misunderstanding    misunderstand       misunderstand       \n",
            "railroad            railroad            railroad            \n",
            "moonlight           moonlight           moonlight           \n",
            "football            footbal             footbal             \n"
          ],
          "name": "stdout"
        }
      ]
    },
    {
      "cell_type": "code",
      "metadata": {
        "colab": {
          "base_uri": "https://localhost:8080/"
        },
        "id": "WRv3hiKWDUC7",
        "outputId": "4de64f8f-a51a-4913-c595-02ebf25043c6"
      },
      "source": [
        "print(\"For Lancaster:\", lancaster.stem(\"destabilized\"))\r\n",
        "print(\"For Porter:\", porter.stem(\"destabilized\"))\r\n"
      ],
      "execution_count": 10,
      "outputs": [
        {
          "output_type": "stream",
          "text": [
            "For Lancaster: dest\n",
            "For Porter: destabil\n"
          ],
          "name": "stdout"
        }
      ]
    },
    {
      "cell_type": "code",
      "metadata": {
        "colab": {
          "base_uri": "https://localhost:8080/"
        },
        "id": "kEa_222ZDT_C",
        "outputId": "64f626ce-0767-4d59-913f-916667fcd167"
      },
      "source": [
        "from nltk.stem import WordNetLemmatizer\r\n",
        "import nltk\r\n",
        "nltk.download('wordnet')"
      ],
      "execution_count": 11,
      "outputs": [
        {
          "output_type": "stream",
          "text": [
            "[nltk_data] Downloading package wordnet to /root/nltk_data...\n",
            "[nltk_data]   Unzipping corpora/wordnet.zip.\n"
          ],
          "name": "stdout"
        },
        {
          "output_type": "execute_result",
          "data": {
            "text/plain": [
              "True"
            ]
          },
          "metadata": {
            "tags": []
          },
          "execution_count": 11
        }
      ]
    },
    {
      "cell_type": "code",
      "metadata": {
        "colab": {
          "base_uri": "https://localhost:8080/"
        },
        "id": "GVoJLayMDT8x",
        "outputId": "a541f310-c364-4727-f59b-d5aa809a7dcf"
      },
      "source": [
        "lemma = WordNetLemmatizer()\r\n",
        "print(lemma.lemmatize('amusing', 'v'), lemma.lemmatize('amuses', 'v'), lemma.lemmatize('amused', 'v'))\r\n",
        "print(lemma.lemmatize('happier', 'v'), lemma.lemmatize('happiest', 'v'))\r\n",
        "print(lemma.lemmatize('fancier', 'a'), lemma.lemmatize('fanciest', 'a'))"
      ],
      "execution_count": 12,
      "outputs": [
        {
          "output_type": "stream",
          "text": [
            "amuse amuse amuse\n",
            "happier happiest\n",
            "fancy fancy\n"
          ],
          "name": "stdout"
        }
      ]
    },
    {
      "cell_type": "code",
      "metadata": {
        "colab": {
          "base_uri": "https://localhost:8080/"
        },
        "id": "BDBWop8DDT6a",
        "outputId": "f7f093f9-da65-4aae-8dff-328df0376074"
      },
      "source": [
        "from nltk.stem import PorterStemmer\r\n",
        "stemmer = PorterStemmer()\r\n",
        "\r\n",
        "print(stemmer.stem('working'),stemmer.stem('works'),stemmer.stem('worked'))\r\n",
        "print(stemmer.stem('amusing'),stemmer.stem('amuses'),stemmer.stem('amused'))\r\n",
        "print(stemmer.stem('happier'),stemmer.stem('happiest'))\r\n",
        "print(stemmer.stem('fancier'),stemmer.stem('fanciest'))\r\n",
        "print(stemmer.stem('was'), stemmer.stem('love'))"
      ],
      "execution_count": 13,
      "outputs": [
        {
          "output_type": "stream",
          "text": [
            "work work work\n",
            "amus amus amus\n",
            "happier happiest\n",
            "fancier fanciest\n",
            "wa love\n"
          ],
          "name": "stdout"
        }
      ]
    },
    {
      "cell_type": "code",
      "metadata": {
        "id": "pkTeGTPlMCzh"
      },
      "source": [
        ""
      ],
      "execution_count": null,
      "outputs": []
    },
    {
      "cell_type": "code",
      "metadata": {
        "id": "24b35nJdMCxU"
      },
      "source": [
        ""
      ],
      "execution_count": null,
      "outputs": []
    },
    {
      "cell_type": "code",
      "metadata": {
        "id": "OwA1ZwPUMCvK"
      },
      "source": [
        ""
      ],
      "execution_count": null,
      "outputs": []
    },
    {
      "cell_type": "code",
      "metadata": {
        "id": "52HG9j_yMCsx"
      },
      "source": [
        ""
      ],
      "execution_count": null,
      "outputs": []
    },
    {
      "cell_type": "code",
      "metadata": {
        "id": "tMZS0QMxMCqj"
      },
      "source": [
        ""
      ],
      "execution_count": null,
      "outputs": []
    },
    {
      "cell_type": "code",
      "metadata": {
        "id": "a8OoEnJrMCod"
      },
      "source": [
        ""
      ],
      "execution_count": null,
      "outputs": []
    },
    {
      "cell_type": "code",
      "metadata": {
        "id": "-YeGnXbYMClx"
      },
      "source": [
        ""
      ],
      "execution_count": null,
      "outputs": []
    },
    {
      "cell_type": "code",
      "metadata": {
        "id": "CF7UGRURMCj2"
      },
      "source": [
        ""
      ],
      "execution_count": null,
      "outputs": []
    },
    {
      "cell_type": "code",
      "metadata": {
        "id": "nUlnOHjMMChS"
      },
      "source": [
        ""
      ],
      "execution_count": null,
      "outputs": []
    },
    {
      "cell_type": "code",
      "metadata": {
        "id": "GW41YL06MCfj"
      },
      "source": [
        ""
      ],
      "execution_count": null,
      "outputs": []
    },
    {
      "cell_type": "code",
      "metadata": {
        "id": "sIPV_56yMCdJ"
      },
      "source": [
        ""
      ],
      "execution_count": null,
      "outputs": []
    },
    {
      "cell_type": "code",
      "metadata": {
        "id": "NQBvhUD8MCat"
      },
      "source": [
        ""
      ],
      "execution_count": null,
      "outputs": []
    },
    {
      "cell_type": "code",
      "metadata": {
        "id": "SagWp23XMCYl"
      },
      "source": [
        ""
      ],
      "execution_count": null,
      "outputs": []
    },
    {
      "cell_type": "code",
      "metadata": {
        "id": "SgZ1OHeYMCWS"
      },
      "source": [
        ""
      ],
      "execution_count": null,
      "outputs": []
    },
    {
      "cell_type": "code",
      "metadata": {
        "id": "2CV3JCSoMCT8"
      },
      "source": [
        ""
      ],
      "execution_count": null,
      "outputs": []
    },
    {
      "cell_type": "code",
      "metadata": {
        "id": "gKc2ux-qMCRr"
      },
      "source": [
        ""
      ],
      "execution_count": null,
      "outputs": []
    },
    {
      "cell_type": "code",
      "metadata": {
        "id": "1TKwSxO9MCPi"
      },
      "source": [
        ""
      ],
      "execution_count": null,
      "outputs": []
    },
    {
      "cell_type": "code",
      "metadata": {
        "id": "7xTQbpFcMCNb"
      },
      "source": [
        ""
      ],
      "execution_count": null,
      "outputs": []
    },
    {
      "cell_type": "code",
      "metadata": {
        "id": "Levb8i8nMCLB"
      },
      "source": [
        ""
      ],
      "execution_count": null,
      "outputs": []
    },
    {
      "cell_type": "code",
      "metadata": {
        "id": "KPdGLJ0FMCI_"
      },
      "source": [
        ""
      ],
      "execution_count": null,
      "outputs": []
    },
    {
      "cell_type": "code",
      "metadata": {
        "id": "UsO-g75SMCGp"
      },
      "source": [
        ""
      ],
      "execution_count": null,
      "outputs": []
    },
    {
      "cell_type": "code",
      "metadata": {
        "id": "mTU9ulpPMCEr"
      },
      "source": [
        ""
      ],
      "execution_count": null,
      "outputs": []
    },
    {
      "cell_type": "code",
      "metadata": {
        "id": "I3muPAu5MCCS"
      },
      "source": [
        ""
      ],
      "execution_count": null,
      "outputs": []
    },
    {
      "cell_type": "code",
      "metadata": {
        "id": "58pqgixWMCAV"
      },
      "source": [
        ""
      ],
      "execution_count": null,
      "outputs": []
    },
    {
      "cell_type": "code",
      "metadata": {
        "id": "IT1q_DIUMB95"
      },
      "source": [
        ""
      ],
      "execution_count": null,
      "outputs": []
    },
    {
      "cell_type": "code",
      "metadata": {
        "id": "PjhE41_UMB7y"
      },
      "source": [
        ""
      ],
      "execution_count": null,
      "outputs": []
    },
    {
      "cell_type": "code",
      "metadata": {
        "id": "UAaCscbDMBza"
      },
      "source": [
        ""
      ],
      "execution_count": null,
      "outputs": []
    }
  ]
}